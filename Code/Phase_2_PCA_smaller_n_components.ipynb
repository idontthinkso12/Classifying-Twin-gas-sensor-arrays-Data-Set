{
 "cells": [
  {
   "cell_type": "code",
   "execution_count": 4,
   "metadata": {},
   "outputs": [],
   "source": [
    "import numpy as np\n",
    "import pandas as pd\n",
    "from sklearn.decomposition import PCA\n",
    "\n",
    "from sklearn.preprocessing import StandardScaler\n",
    "scaler = StandardScaler()\n",
    "df = pd.read_csv('./data/Phase_1_X_data.txt', sep=' ', header=None)\n",
    "scaler.fit(df)\n",
    "\n",
    "scaled_data = scaler.transform(df)\n"
   ]
  },
  {
   "cell_type": "code",
   "execution_count": 72,
   "metadata": {},
   "outputs": [],
   "source": [
    "# tested value of n components: 2,3,4,5,6,7,8\n",
    "n_compo = 2"
   ]
  },
  {
   "cell_type": "code",
   "execution_count": 73,
   "metadata": {},
   "outputs": [],
   "source": [
    "pca = PCA(n_components=n_compo)\n",
    "pca.fit(scaled_data)\n",
    "x_pca = pca.transform(scaled_data)"
   ]
  },
  {
   "cell_type": "code",
   "execution_count": 74,
   "metadata": {},
   "outputs": [],
   "source": [
    "file3 = f'./data/Phase_2_X_data_op3_{n_compo}.txt'\n",
    "np.savetxt(file3, x_pca, fmt='%.2f', delimiter=' ')"
   ]
  },
  {
   "cell_type": "code",
   "execution_count": 75,
   "metadata": {},
   "outputs": [],
   "source": [
    "from sklearn.linear_model import LogisticRegression\n",
    "from sklearn.model_selection import train_test_split\n",
    "import Dataset_prep_yb as dp_yb"
   ]
  },
  {
   "cell_type": "code",
   "execution_count": 80,
   "metadata": {},
   "outputs": [],
   "source": [
    "n_itr = 200"
   ]
  },
  {
   "cell_type": "code",
   "execution_count": 82,
   "metadata": {},
   "outputs": [
    {
     "name": "stdout",
     "output_type": "stream",
     "text": [
      "{0.6: 0.5435, 0.5: 0.557, 0.4: 0.5573, 0.3: 0.5789, 0.2: 0.5512, 0.1: 0.5312}\n"
     ]
    }
   ],
   "source": [
    "X_data_path = f'./data/Phase_2_X_data_op3_{n_compo}.txt'\n",
    "y_data_path = './data/y_data_10_Half.txt'\n",
    "\n",
    "X, y = dp_yb.load_trainXy(X_data_path, y_data_path)\n",
    "\n",
    "test_size_proportions = [0.6, 0.5, 0.4, 0.3, 0.2, 0.1]\n",
    "res = {}\n",
    "for i in range(6):\n",
    "    X_train, X_test, y_train, y_test = train_test_split(X, y, test_size=test_size_proportions[i])\n",
    "    cls1 = LogisticRegression(solver='lbfgs', max_iter=n_itr)\n",
    "    \n",
    "    cls1.fit(X_train, y_train)\n",
    "    score = cls1.score(X_test, y_test)\n",
    "    res[test_size_proportions[i]] = round(score,4)\n",
    "\n",
    "print(res)"
   ]
  },
  {
   "cell_type": "code",
   "execution_count": 53,
   "metadata": {},
   "outputs": [],
   "source": [
    "# save a model if its accuracy is high\n",
    "import pickle\n",
    "\n",
    "filename2 = './saved_models/6/Logistic_itr_200_1.sav'\n",
    "pickle.dump(cls1, open(filename2,'wb'))"
   ]
  }
 ],
 "metadata": {
  "kernelspec": {
   "display_name": "Py11",
   "language": "python",
   "name": "python3"
  },
  "language_info": {
   "codemirror_mode": {
    "name": "ipython",
    "version": 3
   },
   "file_extension": ".py",
   "mimetype": "text/x-python",
   "name": "python",
   "nbconvert_exporter": "python",
   "pygments_lexer": "ipython3",
   "version": "3.11.2"
  },
  "orig_nbformat": 4
 },
 "nbformat": 4,
 "nbformat_minor": 2
}
