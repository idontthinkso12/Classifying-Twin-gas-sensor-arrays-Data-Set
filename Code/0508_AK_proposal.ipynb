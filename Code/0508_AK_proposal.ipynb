{
 "cells": [
  {
   "cell_type": "code",
   "execution_count": 1,
   "metadata": {},
   "outputs": [],
   "source": [
    "import numpy as np\n",
    "import pickle\n",
    "from sklearn.linear_model import LogisticRegression\n",
    "from sklearn.model_selection import train_test_split\n",
    "import Dataset_prep_yb as dp_yb\n"
   ]
  },
  {
   "cell_type": "code",
   "execution_count": 2,
   "metadata": {},
   "outputs": [
    {
     "name": "stdout",
     "output_type": "stream",
     "text": [
      "(4, 80)\n",
      "(4,)\n"
     ]
    }
   ],
   "source": [
    "# load the previous model\n",
    "filename = './saved_models/Logistic_reg_model2.sav'\n",
    "model1 = pickle.load(open(filename,'rb'))\n",
    "\n",
    "model_coeficients = model1.coef_\n",
    "model_intercept = model1.intercept_\n",
    "\n",
    "print(model_coeficients.shape)\n",
    "print(model_intercept.shape)\n",
    "\n"
   ]
  },
  {
   "cell_type": "code",
   "execution_count": 4,
   "metadata": {},
   "outputs": [
    {
     "name": "stdout",
     "output_type": "stream",
     "text": [
      "(80, 4)\n"
     ]
    }
   ],
   "source": [
    "new_w = []\n",
    "for i in range(4):\n",
    "    tmp1 = np.reshape(model_coeficients[i],(10,8))\n",
    "    avg_lst1 = np.average(tmp1, axis=0)\n",
    "    new_w.append(np.tile(avg_lst1,10))\n",
    "new_w = np.array(new_w)\n",
    "new_w = new_w.T\n",
    "print(new_w.shape)\n",
    "\n",
    "avg_b = np.average(model_intercept)\n",
    "new_b = [avg_b,avg_b,avg_b,avg_b]\n",
    "new_b = np.array(new_b)\n",
    "new_b = new_b.T"
   ]
  },
  {
   "cell_type": "code",
   "execution_count": 5,
   "metadata": {},
   "outputs": [
    {
     "name": "stdout",
     "output_type": "stream",
     "text": [
      "(80, 4)\n"
     ]
    }
   ],
   "source": [
    "new_w2 = []\n",
    "for i in range(4):\n",
    "    tmp2 = np.reshape(model_coeficients[i],(10,8))\n",
    "    avg_lst2 = np.sum(tmp2, axis=0)\n",
    "    new_w2.append(np.tile(avg_lst2,10))\n",
    "new_w2 = np.array(new_w2)\n",
    "new_w2 = new_w2.T\n",
    "print(new_w2.shape)\n",
    "\n",
    "avg_b2 = np.sum(model_intercept)\n",
    "new_b2 = [avg_b2,avg_b2,avg_b2,avg_b2]\n",
    "new_b2 = np.array(new_b2)\n",
    "new_b2 = new_b2.T"
   ]
  },
  {
   "cell_type": "code",
   "execution_count": 7,
   "metadata": {},
   "outputs": [],
   "source": [
    "def sigmoid(x):\n",
    "    return 1/(1+np.exp(-x))\n",
    "\n",
    "def test(X_test, y_test, w, b):\n",
    "    linear_pred = np.dot(X_test, w) + b\n",
    "    y_pred = sigmoid(linear_pred)\n",
    "    class_pred = []\n",
    "    tmp = np.argmax(y_pred, axis=1)\n",
    "    for ele in tmp:\n",
    "        class_pred.append(ele+1)\n",
    "    return np.sum(class_pred==y_test)/len(y_test)\n"
   ]
  },
  {
   "cell_type": "code",
   "execution_count": 15,
   "metadata": {},
   "outputs": [
    {
     "data": {
      "text/plain": [
       "0.8976377952755905"
      ]
     },
     "execution_count": 15,
     "metadata": {},
     "output_type": "execute_result"
    }
   ],
   "source": [
    "X_data_path = f'./data/X_data.txt'\n",
    "y_data_path = './data/y_data_10_Half.txt'\n",
    "X, y = dp_yb.load_trainXy(X_data_path, y_data_path)\n",
    "\n",
    "X_train, X_test, y_train, y_test = train_test_split(X, y, test_size=0.2)\n",
    "\n",
    "score1 = test(X_test, y_test, model_coeficients.T, model_intercept.T)\n",
    "score1\n"
   ]
  },
  {
   "cell_type": "code",
   "execution_count": 68,
   "metadata": {},
   "outputs": [
    {
     "data": {
      "text/plain": [
       "0.234375"
      ]
     },
     "execution_count": 68,
     "metadata": {},
     "output_type": "execute_result"
    }
   ],
   "source": [
    "score2 = test(X_test, y_test, new_w, new_b)\n",
    "score2"
   ]
  },
  {
   "cell_type": "code",
   "execution_count": 16,
   "metadata": {},
   "outputs": [
    {
     "data": {
      "text/plain": [
       "0.16535433070866143"
      ]
     },
     "execution_count": 16,
     "metadata": {},
     "output_type": "execute_result"
    }
   ],
   "source": [
    "score3 = test(X_test, y_test, new_w2, new_b2)\n",
    "score3"
   ]
  },
  {
   "cell_type": "code",
   "execution_count": null,
   "metadata": {},
   "outputs": [],
   "source": []
  }
 ],
 "metadata": {
  "kernelspec": {
   "display_name": "Py11",
   "language": "python",
   "name": "python3"
  },
  "language_info": {
   "codemirror_mode": {
    "name": "ipython",
    "version": 3
   },
   "file_extension": ".py",
   "mimetype": "text/x-python",
   "name": "python",
   "nbconvert_exporter": "python",
   "pygments_lexer": "ipython3",
   "version": "3.11.2"
  },
  "orig_nbformat": 4
 },
 "nbformat": 4,
 "nbformat_minor": 2
}
